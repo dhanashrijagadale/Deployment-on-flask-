{
 "cells": [
  {
   "cell_type": "code",
   "execution_count": 2,
   "id": "e98d94a3",
   "metadata": {},
   "outputs": [],
   "source": [
    "import pandas as pd\n",
    "import numpy as np\n",
    "import pickle\n",
    "\n",
    "dhan= pd.read_csv('iris.data')\n",
    "\n",
    "X = np.array(df.iloc[:, 0:4])\n",
    "y = np.array(df.iloc[:, 4:])\n",
    "\n",
    "from sklearn.preprocessing import LabelEncoder\n",
    "le = LabelEncoder()\n",
    "y = le.fit_transform(y.reshape(-1))\n",
    "\n",
    "from sklearn.model_selection import train_test_split\n",
    "X_train, X_test, y_train, y_test = train_test_split(X, y, test_size=0.2)\n",
    "\n",
    "from sklearn.svm import SVC\n",
    "sv = SVC(kernel='linear').fit(X_train,y_train)\n",
    "\n",
    "\n",
    "pickle.dump(sv, open('iri.pkl', 'wb'))"
   ]
  },
  {
   "cell_type": "code",
   "execution_count": 1,
   "id": "c3c6becd",
   "metadata": {},
   "outputs": [],
   "source": [
    "import pandas as pd\n",
    "import numpy as np\n",
    "import pickle\n",
    "#Importing the python libraries"
   ]
  },
  {
   "cell_type": "code",
   "execution_count": 2,
   "id": "29e7ec50",
   "metadata": {},
   "outputs": [],
   "source": [
    "dhan= pd.read_csv('iris.data') #reading data"
   ]
  },
  {
   "cell_type": "code",
   "execution_count": 3,
   "id": "8bc12ab6",
   "metadata": {},
   "outputs": [],
   "source": [
    "X = np.array(dhan.iloc[:, 0:4])\n",
    "y = np.array(dhan.iloc[:, 4:])"
   ]
  },
  {
   "cell_type": "code",
   "execution_count": 4,
   "id": "344a8d03",
   "metadata": {},
   "outputs": [],
   "source": [
    "#Training the machine learning model\n",
    "from sklearn.preprocessing import LabelEncoder\n",
    "le = LabelEncoder()\n",
    "y = le.fit_transform(y.reshape(-1))\n",
    "\n",
    "from sklearn.model_selection import train_test_split\n",
    "X_train, X_test, y_train, y_test = train_test_split(X, y, test_size=0.2)\n",
    "\n",
    "from sklearn.svm import SVC\n",
    "sv = SVC(kernel='linear').fit(X_train,y_train)\n"
   ]
  },
  {
   "cell_type": "code",
   "execution_count": null,
   "id": "c8d2c22b",
   "metadata": {},
   "outputs": [],
   "source": [
    "pickle.dump(sv, open('iri.pkl', 'wb')) #Saving the model using Pickle Library"
   ]
  }
 ],
 "metadata": {
  "kernelspec": {
   "display_name": "Python 3 (ipykernel)",
   "language": "python",
   "name": "python3"
  },
  "language_info": {
   "codemirror_mode": {
    "name": "ipython",
    "version": 3
   },
   "file_extension": ".py",
   "mimetype": "text/x-python",
   "name": "python",
   "nbconvert_exporter": "python",
   "pygments_lexer": "ipython3",
   "version": "3.9.12"
  }
 },
 "nbformat": 4,
 "nbformat_minor": 5
}
